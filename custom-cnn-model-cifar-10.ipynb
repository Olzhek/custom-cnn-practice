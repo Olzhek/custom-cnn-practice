{
 "cells": [
  {
   "cell_type": "code",
   "execution_count": 1,
   "id": "5f08bf57",
   "metadata": {
    "_cell_guid": "b1076dfc-b9ad-4769-8c92-a6c4dae69d19",
    "_uuid": "8f2839f25d086af736a60e9eeb907d3b93b6e0e5",
    "execution": {
     "iopub.execute_input": "2025-07-21T23:23:45.137574Z",
     "iopub.status.busy": "2025-07-21T23:23:45.136885Z",
     "iopub.status.idle": "2025-07-21T23:24:03.350223Z",
     "shell.execute_reply": "2025-07-21T23:24:03.349610Z"
    },
    "papermill": {
     "duration": 18.218536,
     "end_time": "2025-07-21T23:24:03.351553",
     "exception": false,
     "start_time": "2025-07-21T23:23:45.133017",
     "status": "completed"
    },
    "tags": []
   },
   "outputs": [
    {
     "name": "stderr",
     "output_type": "stream",
     "text": [
      "100%|██████████| 170M/170M [00:01<00:00, 106MB/s]\n"
     ]
    }
   ],
   "source": [
    "import matplotlib.pyplot as plt\n",
    "import numpy as np\n",
    "import torchvision\n",
    "import torch\n",
    "import torch.nn as nn\n",
    "import torch.nn.functional as F\n",
    "from torch.optim.optimizer import Optimizer\n",
    "\n",
    "from torchvision import datasets, transforms\n",
    "from torch.utils.data import DataLoader\n",
    "\n",
    "# Transform to normalize the data\n",
    "transform = transforms.Compose([\n",
    "    transforms.ToTensor(),\n",
    "    # transforms.Normalize((0.1307,), (0.3081,))  # mean and std for MNIST\n",
    "])\n",
    "\n",
    "# Download and load training data\n",
    "train_dataset = datasets.CIFAR10(root='./data', train=True, download=True, transform=transform)\n",
    "train_loader = DataLoader(train_dataset, batch_size=64, shuffle=True)\n",
    "\n",
    "# Download and load test data\n",
    "test_dataset = datasets.CIFAR10(root='./data', train=False, download=True, transform=transform)\n",
    "test_loader = DataLoader(test_dataset, batch_size=1000, shuffle=False)"
   ]
  },
  {
   "cell_type": "code",
   "execution_count": 2,
   "id": "1ab111e3",
   "metadata": {
    "execution": {
     "iopub.execute_input": "2025-07-21T23:24:03.359570Z",
     "iopub.status.busy": "2025-07-21T23:24:03.359269Z",
     "iopub.status.idle": "2025-07-21T23:24:03.363080Z",
     "shell.execute_reply": "2025-07-21T23:24:03.362456Z"
    },
    "papermill": {
     "duration": 0.008738,
     "end_time": "2025-07-21T23:24:03.364132",
     "exception": false,
     "start_time": "2025-07-21T23:24:03.355394",
     "status": "completed"
    },
    "tags": []
   },
   "outputs": [
    {
     "name": "stdout",
     "output_type": "stream",
     "text": [
      "['airplane', 'automobile', 'bird', 'cat', 'deer', 'dog', 'frog', 'horse', 'ship', 'truck']\n"
     ]
    }
   ],
   "source": [
    "classes = test_dataset.classes\n",
    "print(classes)"
   ]
  },
  {
   "cell_type": "code",
   "execution_count": 3,
   "id": "4ccd3488",
   "metadata": {
    "execution": {
     "iopub.execute_input": "2025-07-21T23:24:03.370693Z",
     "iopub.status.busy": "2025-07-21T23:24:03.370512Z",
     "iopub.status.idle": "2025-07-21T23:24:03.592687Z",
     "shell.execute_reply": "2025-07-21T23:24:03.591963Z"
    },
    "papermill": {
     "duration": 0.226598,
     "end_time": "2025-07-21T23:24:03.593757",
     "exception": false,
     "start_time": "2025-07-21T23:24:03.367159",
     "status": "completed"
    },
    "tags": []
   },
   "outputs": [
    {
     "data": {
      "image/png": "[encoded data removed]",
      "text/plain": [
       "<Figure size 640x480 with 1 Axes>"
      ]
     },
     "metadata": {},
     "output_type": "display_data"
    },
    {
     "name": "stdout",
     "output_type": "stream",
     "text": [
      "horse truck cat   cat  \n"
     ]
    }
   ],
   "source": [
    "def imshow(img):\n",
    "    npimg = img.numpy()\n",
    "    plt.imshow(np.transpose(npimg, (1, 2, 0)))\n",
    "    plt.axis(\"off\")\n",
    "    plt.show()\n",
    "\n",
    "# Get some random training images\n",
    "dataiter = iter(train_loader)\n",
    "images, labels = next(dataiter)\n",
    "\n",
    "images_to_show = images[:4]\n",
    "labels_to_show = labels[:4]\n",
    "\n",
    "# Show images\n",
    "imshow(torchvision.utils.make_grid(images_to_show))\n",
    "\n",
    "# Print class labels\n",
    "print(' '.join(f'{classes[labels_to_show[j]]:5s}' for j in range(4)))"
   ]
  },
  {
   "cell_type": "markdown",
   "id": "a7f43141",
   "metadata": {
    "papermill": {
     "duration": 0.003277,
     "end_time": "2025-07-21T23:24:03.600646",
     "exception": false,
     "start_time": "2025-07-21T23:24:03.597369",
     "status": "completed"
    },
    "tags": []
   },
   "source": [
    "# Custom CNN Block"
   ]
  },
  {
   "cell_type": "code",
   "execution_count": 4,
   "id": "9a0706f9",
   "metadata": {
    "execution": {
     "iopub.execute_input": "2025-07-21T23:24:03.608237Z",
     "iopub.status.busy": "2025-07-21T23:24:03.607994Z",
     "iopub.status.idle": "2025-07-21T23:24:03.614863Z",
     "shell.execute_reply": "2025-07-21T23:24:03.614332Z"
    },
    "papermill": {
     "duration": 0.011922,
     "end_time": "2025-07-21T23:24:03.615953",
     "exception": false,
     "start_time": "2025-07-21T23:24:03.604031",
     "status": "completed"
    },
    "tags": []
   },
   "outputs": [],
   "source": [
    "class MyConv2D(nn.Module) :\n",
    "    def __init__(self, in_ch, out_ch, ker_size, stride=1, padding=0) :\n",
    "        \"\"\"\n",
    "        One convolutional block.\n",
    "        Parameters:\n",
    "        - in_ch: input dim\n",
    "        - out_ch: output dim\n",
    "        - ker_size: kernel size\n",
    "        - stride: stride (default=1)\n",
    "        - padding: padding (default=0)\n",
    "        \"\"\"\n",
    "        super().__init__()\n",
    "        self.in_ch = in_ch\n",
    "        self.out_ch = out_ch\n",
    "\n",
    "        \n",
    "        # Check if ker_size, stride, padding are given as integers or matrices\n",
    "        if isinstance(ker_size, int) :\n",
    "            ker_size = (ker_size, ker_size)\n",
    "        if isinstance(stride, int) :\n",
    "            stride = (stride, stride)\n",
    "        if isinstance(padding, int) :\n",
    "            padding = (padding, padding)\n",
    "\n",
    "        self.ker_size = ker_size\n",
    "        self.stride = stride\n",
    "        self.padding = padding\n",
    "\n",
    "        # He initialization\n",
    "        self.weight = nn.Parameter(torch.randn(\n",
    "          out_ch, in_ch, *ker_size  \n",
    "        ) * (1.0 / (in_ch * ker_size[0] * ker_size[1])**0.5))\n",
    "\n",
    "        self.bias = nn.Parameter(torch.zeros(out_ch))\n",
    "\n",
    "    def forward(self, x) :\n",
    "        device = x.device\n",
    "        \n",
    "        B, C, H, W = x.shape\n",
    "        kh, kw = self.ker_size\n",
    "\n",
    "        # Shape: (B, in_ch * kh * kw, L), where L = number of patches\n",
    "        x_unf = F.unfold(x, kernel_size=self.ker_size, stride=self.stride, padding=self.padding)\n",
    "\n",
    "        # Reshape weights to (out_ch, in_ch * kh * kw)\n",
    "        weight_flat = self.weight.view(self.out_ch, -1).to(device)\n",
    "\n",
    "        out_unf = weight_flat @ x_unf  # shape: (B, out_ch, L)\n",
    "        out_unf = out_unf + self.bias.view(1, -1, 1).to(device)\n",
    "\n",
    "        out_h = (H + 2*self.padding[0] - kh) // self.stride[0] + 1\n",
    "        out_w = (W + 2*self.padding[1] - kw) // self.stride[1] + 1\n",
    "\n",
    "        out = out_unf.view(B, self.out_ch, out_h, out_w)\n",
    "        return out"
   ]
  },
  {
   "cell_type": "markdown",
   "id": "99e3920e",
   "metadata": {
    "papermill": {
     "duration": 0.003153,
     "end_time": "2025-07-21T23:24:03.622422",
     "exception": false,
     "start_time": "2025-07-21T23:24:03.619269",
     "status": "completed"
    },
    "tags": []
   },
   "source": [
    "# Custom Entropy Loss"
   ]
  },
  {
   "cell_type": "code",
   "execution_count": 5,
   "id": "93beb025",
   "metadata": {
    "execution": {
     "iopub.execute_input": "2025-07-21T23:24:03.629643Z",
     "iopub.status.busy": "2025-07-21T23:24:03.629439Z",
     "iopub.status.idle": "2025-07-21T23:24:03.633306Z",
     "shell.execute_reply": "2025-07-21T23:24:03.632624Z"
    },
    "papermill": {
     "duration": 0.008796,
     "end_time": "2025-07-21T23:24:03.634480",
     "exception": false,
     "start_time": "2025-07-21T23:24:03.625684",
     "status": "completed"
    },
    "tags": []
   },
   "outputs": [],
   "source": [
    "class MyCrossEntropyLoss(nn.Module) :\n",
    "    def __init__(self) :\n",
    "        super().__init__()\n",
    "\n",
    "    def forward(self, logits, targets) :\n",
    "        # logits: (N, C)\n",
    "        # targets: (N,)\n",
    "        log_probs = F.log_softmax(logits, dim=1)\n",
    "        loss = -log_probs[torch.arange(logits.size(0)), targets]\n",
    "        return loss.mean()"
   ]
  },
  {
   "cell_type": "markdown",
   "id": "b46d2208",
   "metadata": {
    "papermill": {
     "duration": 0.003079,
     "end_time": "2025-07-21T23:24:03.640795",
     "exception": false,
     "start_time": "2025-07-21T23:24:03.637716",
     "status": "completed"
    },
    "tags": []
   },
   "source": [
    "# Custom SGD Optimizer"
   ]
  },
  {
   "cell_type": "code",
   "execution_count": 6,
   "id": "6ccde186",
   "metadata": {
    "execution": {
     "iopub.execute_input": "2025-07-21T23:24:03.647979Z",
     "iopub.status.busy": "2025-07-21T23:24:03.647779Z",
     "iopub.status.idle": "2025-07-21T23:24:03.652035Z",
     "shell.execute_reply": "2025-07-21T23:24:03.651391Z"
    },
    "papermill": {
     "duration": 0.009084,
     "end_time": "2025-07-21T23:24:03.653197",
     "exception": false,
     "start_time": "2025-07-21T23:24:03.644113",
     "status": "completed"
    },
    "tags": []
   },
   "outputs": [],
   "source": [
    "class MySGD(Optimizer) :\n",
    "    def __init__(self, params, lr=0.01) :\n",
    "        self.params = list(params)\n",
    "        self.lr = lr\n",
    "\n",
    "    def step(self, closure=None) :\n",
    "        for p in self.params :\n",
    "            if p.grad is not None :\n",
    "                with torch.no_grad() :\n",
    "                    p -= self.lr * p.grad\n",
    "\n",
    "    def zero_grad(self) :\n",
    "        for p in self.params :\n",
    "            if p.grad is not None :\n",
    "                p.grad.zero_()"
   ]
  },
  {
   "cell_type": "markdown",
   "id": "aa846f16",
   "metadata": {
    "papermill": {
     "duration": 0.003147,
     "end_time": "2025-07-21T23:24:03.659629",
     "exception": false,
     "start_time": "2025-07-21T23:24:03.656482",
     "status": "completed"
    },
    "tags": []
   },
   "source": [
    "# Custom CNN Model"
   ]
  },
  {
   "cell_type": "code",
   "execution_count": 7,
   "id": "d608073f",
   "metadata": {
    "execution": {
     "iopub.execute_input": "2025-07-21T23:24:03.668087Z",
     "iopub.status.busy": "2025-07-21T23:24:03.667495Z",
     "iopub.status.idle": "2025-07-21T23:24:03.673626Z",
     "shell.execute_reply": "2025-07-21T23:24:03.673100Z"
    },
    "papermill": {
     "duration": 0.01096,
     "end_time": "2025-07-21T23:24:03.674597",
     "exception": false,
     "start_time": "2025-07-21T23:24:03.663637",
     "status": "completed"
    },
    "tags": []
   },
   "outputs": [],
   "source": [
    "class MyModel(nn.Module) :\n",
    "    def __init__(self) :\n",
    "        \"\"\"\n",
    "        3 layers of convolutional blocks, each with kernel size of 3 and followed by batch normalization.\n",
    "        - conv1: (1, 4)\n",
    "        - conv2: (4, 8)\n",
    "        - conv3: (8, 16)\n",
    "        \"\"\"\n",
    "        super().__init__()\n",
    "        self.conv1 = MyConv2D(3, 32, ker_size=3, padding=1)\n",
    "        self.bn1   = nn.BatchNorm2d(32)\n",
    "\n",
    "        self.conv2 = MyConv2D(32, 64, ker_size=3, padding=1)\n",
    "        self.bn2   = nn.BatchNorm2d(64)\n",
    "\n",
    "        self.conv3 = MyConv2D(64, 128, ker_size=3, padding=1)\n",
    "        self.bn3   = nn.BatchNorm2d(128)\n",
    "\n",
    "        self.pool = nn.MaxPool2d(2, 2) # Halves H, W\n",
    "\n",
    "        self.flatten = nn.Flatten()\n",
    "        self.dropout = nn.Dropout(p=0.5)\n",
    "\n",
    "        self.fc1 = nn.Linear(128 * 4 * 4, 256)\n",
    "        self.fc2 = nn.Linear(256, 10)\n",
    "\n",
    "    def forward(self, x) :\n",
    "        x = self.pool(F.relu(self.bn1(self.conv1(x))))  # (B, 32, 16, 16)\n",
    "        x = self.pool(F.relu(self.bn2(self.conv2(x))))  # (B, 64, 8, 8)\n",
    "        x = self.pool(F.relu(self.bn3(self.conv3(x))))  # (B, 128, 4, 4)\n",
    "        x = self.flatten(x)\n",
    "        x = self.dropout(F.relu(self.fc1(x)))\n",
    "        x = self.fc2(x)\n",
    "        return x"
   ]
  },
  {
   "cell_type": "markdown",
   "id": "aa9607b1",
   "metadata": {
    "papermill": {
     "duration": 0.003036,
     "end_time": "2025-07-21T23:24:03.680802",
     "exception": false,
     "start_time": "2025-07-21T23:24:03.677766",
     "status": "completed"
    },
    "tags": []
   },
   "source": [
    "# Training"
   ]
  },
  {
   "cell_type": "code",
   "execution_count": 8,
   "id": "8852ac1a",
   "metadata": {
    "execution": {
     "iopub.execute_input": "2025-07-21T23:24:03.688149Z",
     "iopub.status.busy": "2025-07-21T23:24:03.687926Z",
     "iopub.status.idle": "2025-07-21T23:24:03.997974Z",
     "shell.execute_reply": "2025-07-21T23:24:03.997097Z"
    },
    "papermill": {
     "duration": 0.315736,
     "end_time": "2025-07-21T23:24:03.999761",
     "exception": false,
     "start_time": "2025-07-21T23:24:03.684025",
     "status": "completed"
    },
    "tags": []
   },
   "outputs": [],
   "source": [
    "device = torch.device('cuda' if torch.cuda.is_available() else 'cpu')\n",
    "\n",
    "model = MyModel().to(device)\n",
    "loss_fn = MyCrossEntropyLoss()\n",
    "optimizer = MySGD(model.parameters(), lr=0.01)"
   ]
  },
  {
   "cell_type": "code",
   "execution_count": 9,
   "id": "cf437a30",
   "metadata": {
    "execution": {
     "iopub.execute_input": "2025-07-21T23:24:04.008481Z",
     "iopub.status.busy": "2025-07-21T23:24:04.008254Z",
     "iopub.status.idle": "2025-07-21T23:34:08.909876Z",
     "shell.execute_reply": "2025-07-21T23:34:08.909092Z"
    },
    "papermill": {
     "duration": 604.907053,
     "end_time": "2025-07-21T23:34:08.911012",
     "exception": false,
     "start_time": "2025-07-21T23:24:04.003959",
     "status": "completed"
    },
    "tags": []
   },
   "outputs": [
    {
     "name": "stdout",
     "output_type": "stream",
     "text": [
      "Epoch 1\n",
      "    Train Loss: 1.6368 | Train Acc: 0.5000\n",
      "    Valid Loss: 1.4086 | Valid Acc: 0.4904\n",
      "--------------------------------------------------\n",
      "Epoch 2\n",
      "    Train Loss: 1.3061 | Train Acc: 0.6250\n",
      "    Valid Loss: 1.8072 | Valid Acc: 0.4055\n",
      "--------------------------------------------------\n",
      "Epoch 3\n",
      "    Train Loss: 1.1432 | Train Acc: 0.5625\n",
      "    Valid Loss: 1.3025 | Valid Acc: 0.5422\n",
      "--------------------------------------------------\n",
      "Epoch 4\n",
      "    Train Loss: 1.0408 | Train Acc: 0.5625\n",
      "    Valid Loss: 1.0617 | Valid Acc: 0.6255\n",
      "--------------------------------------------------\n",
      "Epoch 5\n",
      "    Train Loss: 0.9671 | Train Acc: 0.5000\n",
      "    Valid Loss: 0.9627 | Valid Acc: 0.6598\n",
      "--------------------------------------------------\n",
      "Epoch 6\n",
      "    Train Loss: 0.9037 | Train Acc: 0.7500\n",
      "    Valid Loss: 0.9513 | Valid Acc: 0.6643\n",
      "--------------------------------------------------\n",
      "Epoch 7\n",
      "    Train Loss: 0.8528 | Train Acc: 0.9375\n",
      "    Valid Loss: 0.9888 | Valid Acc: 0.6466\n",
      "--------------------------------------------------\n",
      "Epoch 8\n",
      "    Train Loss: 0.8143 | Train Acc: 0.7500\n",
      "    Valid Loss: 0.9682 | Valid Acc: 0.6672\n",
      "--------------------------------------------------\n",
      "Epoch 9\n",
      "    Train Loss: 0.7726 | Train Acc: 0.6875\n",
      "    Valid Loss: 0.8671 | Valid Acc: 0.6899\n",
      "--------------------------------------------------\n",
      "Epoch 10\n",
      "    Train Loss: 0.7426 | Train Acc: 0.5625\n",
      "    Valid Loss: 1.0046 | Valid Acc: 0.6584\n",
      "--------------------------------------------------\n",
      "Epoch 11\n",
      "    Train Loss: 0.7113 | Train Acc: 0.5000\n",
      "    Valid Loss: 0.9493 | Valid Acc: 0.6706\n",
      "--------------------------------------------------\n",
      "Epoch 12\n",
      "    Train Loss: 0.6764 | Train Acc: 0.7500\n",
      "    Valid Loss: 0.9059 | Valid Acc: 0.6898\n",
      "--------------------------------------------------\n",
      "Epoch 13\n",
      "    Train Loss: 0.6462 | Train Acc: 0.6875\n",
      "    Valid Loss: 0.9616 | Valid Acc: 0.6774\n",
      "--------------------------------------------------\n",
      "Epoch 14\n",
      "    Train Loss: 0.6246 | Train Acc: 0.8125\n",
      "    Valid Loss: 0.8536 | Valid Acc: 0.7065\n",
      "--------------------------------------------------\n",
      "Epoch 15\n",
      "    Train Loss: 0.5991 | Train Acc: 0.6875\n",
      "    Valid Loss: 0.9346 | Valid Acc: 0.6871\n",
      "--------------------------------------------------\n",
      "Epoch 16\n",
      "    Train Loss: 0.5740 | Train Acc: 0.7500\n",
      "    Valid Loss: 1.0170 | Valid Acc: 0.6705\n",
      "--------------------------------------------------\n",
      "Epoch 17\n",
      "    Train Loss: 0.5540 | Train Acc: 0.6875\n",
      "    Valid Loss: 0.9908 | Valid Acc: 0.6656\n",
      "--------------------------------------------------\n",
      "Epoch 18\n",
      "    Train Loss: 0.5288 | Train Acc: 0.6875\n",
      "    Valid Loss: 0.7428 | Valid Acc: 0.7462\n",
      "--------------------------------------------------\n",
      "Epoch 19\n",
      "    Train Loss: 0.5123 | Train Acc: 0.6875\n",
      "    Valid Loss: 0.7460 | Valid Acc: 0.7449\n",
      "--------------------------------------------------\n",
      "Epoch 20\n",
      "    Train Loss: 0.4895 | Train Acc: 0.9375\n",
      "    Valid Loss: 1.3723 | Valid Acc: 0.6054\n",
      "--------------------------------------------------\n",
      "Epoch 21\n",
      "    Train Loss: 0.4693 | Train Acc: 0.6875\n",
      "    Valid Loss: 1.0416 | Valid Acc: 0.6686\n",
      "--------------------------------------------------\n",
      "Epoch 22\n",
      "    Train Loss: 0.4488 | Train Acc: 0.8125\n",
      "    Valid Loss: 0.7590 | Valid Acc: 0.7445\n",
      "--------------------------------------------------\n",
      "Epoch 23\n",
      "    Train Loss: 0.4347 | Train Acc: 0.6250\n",
      "    Valid Loss: 0.9723 | Valid Acc: 0.6928\n",
      "--------------------------------------------------\n",
      "Epoch 24\n",
      "    Train Loss: 0.4149 | Train Acc: 0.6250\n",
      "    Valid Loss: 1.0752 | Valid Acc: 0.6590\n",
      "--------------------------------------------------\n",
      "Epoch 25\n",
      "    Train Loss: 0.3999 | Train Acc: 0.8125\n",
      "    Valid Loss: 1.0035 | Valid Acc: 0.6905\n",
      "--------------------------------------------------\n",
      "Epoch 26\n",
      "    Train Loss: 0.3805 | Train Acc: 0.6250\n",
      "    Valid Loss: 1.4340 | Valid Acc: 0.5942\n",
      "--------------------------------------------------\n",
      "Epoch 27\n",
      "    Train Loss: 0.3674 | Train Acc: 0.8750\n",
      "    Valid Loss: 1.0623 | Valid Acc: 0.6777\n",
      "--------------------------------------------------\n",
      "Epoch 28\n",
      "    Train Loss: 0.3520 | Train Acc: 0.9375\n",
      "    Valid Loss: 0.8144 | Valid Acc: 0.7402\n",
      "--------------------------------------------------\n",
      "Epoch 29\n",
      "    Train Loss: 0.3378 | Train Acc: 0.8750\n",
      "    Valid Loss: 0.8005 | Valid Acc: 0.7500\n",
      "--------------------------------------------------\n",
      "Epoch 30\n",
      "    Train Loss: 0.3187 | Train Acc: 0.7500\n",
      "    Valid Loss: 1.2144 | Valid Acc: 0.6523\n",
      "--------------------------------------------------\n",
      "Epoch 31\n",
      "    Train Loss: 0.3063 | Train Acc: 0.9375\n",
      "    Valid Loss: 0.8887 | Valid Acc: 0.7292\n",
      "--------------------------------------------------\n",
      "Epoch 32\n",
      "    Train Loss: 0.2905 | Train Acc: 0.9375\n",
      "    Valid Loss: 0.9272 | Valid Acc: 0.7198\n",
      "--------------------------------------------------\n",
      "Epoch 33\n",
      "    Train Loss: 0.2801 | Train Acc: 0.9375\n",
      "    Valid Loss: 0.7596 | Valid Acc: 0.7609\n",
      "--------------------------------------------------\n",
      "Epoch 34\n",
      "    Train Loss: 0.2696 | Train Acc: 0.8750\n",
      "    Valid Loss: 0.9251 | Valid Acc: 0.7339\n",
      "--------------------------------------------------\n",
      "Epoch 35\n",
      "    Train Loss: 0.2550 | Train Acc: 0.9375\n",
      "    Valid Loss: 0.9020 | Valid Acc: 0.7261\n",
      "--------------------------------------------------\n",
      "Epoch 36\n",
      "    Train Loss: 0.2441 | Train Acc: 0.8125\n",
      "    Valid Loss: 0.9439 | Valid Acc: 0.7313\n",
      "--------------------------------------------------\n",
      "Epoch 37\n",
      "    Train Loss: 0.2349 | Train Acc: 0.9375\n",
      "    Valid Loss: 0.7635 | Valid Acc: 0.7676\n",
      "--------------------------------------------------\n",
      "Epoch 38\n",
      "    Train Loss: 0.2216 | Train Acc: 0.9375\n",
      "    Valid Loss: 0.8579 | Valid Acc: 0.7535\n",
      "--------------------------------------------------\n",
      "Epoch 39\n",
      "    Train Loss: 0.2089 | Train Acc: 0.9375\n",
      "    Valid Loss: 0.8582 | Valid Acc: 0.7572\n",
      "--------------------------------------------------\n",
      "Epoch 40\n",
      "    Train Loss: 0.2051 | Train Acc: 0.9375\n",
      "    Valid Loss: 0.9300 | Valid Acc: 0.7435\n",
      "--------------------------------------------------\n",
      "Epoch 41\n",
      "    Train Loss: 0.1973 | Train Acc: 1.0000\n",
      "    Valid Loss: 1.2234 | Valid Acc: 0.6953\n",
      "--------------------------------------------------\n",
      "Epoch 42\n",
      "    Train Loss: 0.1855 | Train Acc: 0.8750\n",
      "    Valid Loss: 0.9340 | Valid Acc: 0.7457\n",
      "--------------------------------------------------\n",
      "Epoch 43\n",
      "    Train Loss: 0.1785 | Train Acc: 0.9375\n",
      "    Valid Loss: 1.8304 | Valid Acc: 0.6058\n",
      "--------------------------------------------------\n",
      "Epoch 44\n",
      "    Train Loss: 0.1693 | Train Acc: 0.8750\n",
      "    Valid Loss: 1.1164 | Valid Acc: 0.7136\n",
      "--------------------------------------------------\n",
      "Epoch 45\n",
      "    Train Loss: 0.1679 | Train Acc: 0.8125\n",
      "    Valid Loss: 1.2916 | Valid Acc: 0.6677\n",
      "--------------------------------------------------\n",
      "Epoch 46\n",
      "    Train Loss: 0.1554 | Train Acc: 0.8750\n",
      "    Valid Loss: 1.2802 | Valid Acc: 0.6924\n",
      "--------------------------------------------------\n",
      "Epoch 47\n",
      "    Train Loss: 0.1520 | Train Acc: 0.8125\n",
      "    Valid Loss: 1.0296 | Valid Acc: 0.7318\n",
      "--------------------------------------------------\n",
      "Epoch 48\n",
      "    Train Loss: 0.1446 | Train Acc: 1.0000\n",
      "    Valid Loss: 0.9279 | Valid Acc: 0.7549\n",
      "--------------------------------------------------\n",
      "Epoch 49\n",
      "    Train Loss: 0.1363 | Train Acc: 0.9375\n",
      "    Valid Loss: 0.8867 | Valid Acc: 0.7607\n",
      "--------------------------------------------------\n",
      "Epoch 50\n",
      "    Train Loss: 0.1303 | Train Acc: 1.0000\n",
      "    Valid Loss: 1.0387 | Valid Acc: 0.7392\n",
      "--------------------------------------------------\n"
     ]
    }
   ],
   "source": [
    "num_epochs = 50\n",
    "\n",
    "for epoch in range(num_epochs) :\n",
    "    model.train()\n",
    "    total_train_loss = 0.0\n",
    "    total_train_correct = 0\n",
    "    total_train_samples = 0\n",
    "    \n",
    "    for batch_idx, (x_batch, y_batch) in enumerate(train_loader) :\n",
    "        x_batch = x_batch.to(device)\n",
    "        y_batch = y_batch.to(device)\n",
    "        logits = model(x_batch)\n",
    "        loss = loss_fn(logits, y_batch)\n",
    "        loss.backward()\n",
    "        optimizer.step()\n",
    "        optimizer.zero_grad()\n",
    "\n",
    "        total_train_loss += loss.item()\n",
    "\n",
    "        preds = torch.argmax(logits, dim=1)\n",
    "        total_train_correct = (preds==y_batch).sum().item()\n",
    "        total_train_samples = y_batch.size(0)\n",
    "\n",
    "    avg_train_loss = total_train_loss / len(train_loader)\n",
    "    train_acc = total_train_correct / total_train_samples\n",
    "\n",
    "    model.eval()\n",
    "    total_val_loss = 0.0\n",
    "    total_val_correct = 0\n",
    "    total_val_samples = 0\n",
    "\n",
    "    with torch.no_grad() :\n",
    "        for x_val, y_val in test_loader :\n",
    "            x_val = x_val.to(device)\n",
    "            y_val = y_val.to(device)\n",
    "            val_logits = model(x_val)\n",
    "            val_loss = loss_fn(val_logits, y_val)\n",
    "            total_val_loss += val_loss.item()\n",
    "\n",
    "            val_preds = torch.argmax(val_logits, dim=1)\n",
    "            total_val_correct += (val_preds==y_val).sum().item()\n",
    "            total_val_samples += y_val.size(0)\n",
    "\n",
    "    avg_val_loss = total_val_loss / len(test_loader)\n",
    "    val_acc = total_val_correct / total_val_samples\n",
    "\n",
    "    print(f\"Epoch {epoch+1}\")\n",
    "    print(f\"    Train Loss: {avg_train_loss:.4f} | Train Acc: {train_acc:.4f}\")\n",
    "    print(f\"    Valid Loss: {avg_val_loss:.4f} | Valid Acc: {val_acc:.4f}\")\n",
    "    print(\"-\" * 50)"
   ]
  }
 ],
 "metadata": {
  "kaggle": {
   "accelerator": "nvidiaTeslaT4",
   "dataSources": [],
   "dockerImageVersionId": 31090,
   "isGpuEnabled": true,
   "isInternetEnabled": true,
   "language": "python",
   "sourceType": "notebook"
  },
  "kernelspec": {
   "display_name": "Python 3",
   "language": "python",
   "name": "python3"
  },
  "language_info": {
   "codemirror_mode": {
    "name": "ipython",
    "version": 3
   },
   "file_extension": ".py",
   "mimetype": "text/x-python",
   "name": "python",
   "nbconvert_exporter": "python",
   "pygments_lexer": "ipython3",
   "version": "3.11.13"
  },
  "papermill": {
   "default_parameters": {},
   "duration": 633.08046,
   "end_time": "2025-07-21T23:34:12.585443",
   "environment_variables": {},
   "exception": null,
   "input_path": "__notebook__.ipynb",
   "output_path": "__notebook__.ipynb",
   "parameters": {},
   "start_time": "2025-07-21T23:23:39.504983",
   "version": "2.6.0"
  }
 },
 "nbformat": 4,
 "nbformat_minor": 5
}
