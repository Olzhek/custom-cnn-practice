{
 "cells": [
  {
   "cell_type": "code",
   "execution_count": 1,
   "id": "4ac55887",
   "metadata": {
    "_cell_guid": "b1076dfc-b9ad-4769-8c92-a6c4dae69d19",
    "_uuid": "8f2839f25d086af736a60e9eeb907d3b93b6e0e5",
    "execution": {
     "iopub.execute_input": "2025-07-04T22:51:58.525495Z",
     "iopub.status.busy": "2025-07-04T22:51:58.524971Z",
     "iopub.status.idle": "2025-07-04T22:51:59.906563Z",
     "shell.execute_reply": "2025-07-04T22:51:59.905999Z"
    },
    "papermill": {
     "duration": 1.387588,
     "end_time": "2025-07-04T22:51:59.907861",
     "exception": false,
     "start_time": "2025-07-04T22:51:58.520273",
     "status": "completed"
    },
    "tags": []
   },
   "outputs": [],
   "source": [
    "# This Python 3 environment comes with many helpful analytics libraries installed\n",
    "# It is defined by the kaggle/python Docker image: https://github.com/kaggle/docker-python\n",
    "# For example, here's several helpful packages to load\n",
    "\n",
    "import numpy as np # linear algebra\n",
    "import pandas as pd # data processing, CSV file I/O (e.g. pd.read_csv)\n",
    "\n",
    "# Input data files are available in the read-only \"../input/\" directory\n",
    "# For example, running this (by clicking run or pressing Shift+Enter) will list all files under the input directory\n",
    "\n",
    "import os\n",
    "for dirname, _, filenames in os.walk('/kaggle/input'):\n",
    "    for filename in filenames:\n",
    "        print(os.path.join(dirname, filename))\n",
    "\n",
    "# You can write up to 20GB to the current directory (/kaggle/working/) that gets preserved as output when you create a version using \"Save & Run All\" \n",
    "# You can also write temporary files to /kaggle/temp/, but they won't be saved outside of the current session"
   ]
  },
  {
   "cell_type": "code",
   "execution_count": 2,
   "id": "5adbbb08",
   "metadata": {
    "execution": {
     "iopub.execute_input": "2025-07-04T22:51:59.916568Z",
     "iopub.status.busy": "2025-07-04T22:51:59.916249Z",
     "iopub.status.idle": "2025-07-04T22:53:33.133253Z",
     "shell.execute_reply": "2025-07-04T22:53:33.132619Z"
    },
    "papermill": {
     "duration": 93.223058,
     "end_time": "2025-07-04T22:53:33.134735",
     "exception": false,
     "start_time": "2025-07-04T22:51:59.911677",
     "status": "completed"
    },
    "tags": []
   },
   "outputs": [
    {
     "name": "stdout",
     "output_type": "stream",
     "text": [
      "\u001b[2K   \u001b[90m━━━━━━━━━━━━━━━━━━━━━━━━━━━━━━━━━━━━━━━━\u001b[0m \u001b[32m719.8/719.8 kB\u001b[0m \u001b[31m12.8 MB/s\u001b[0m eta \u001b[36m0:00:00\u001b[0m\r\n",
      "\u001b[2K   \u001b[90m━━━━━━━━━━━━━━━━━━━━━━━━━━━━━━━━━━━━━━━━\u001b[0m \u001b[32m124.1/124.1 kB\u001b[0m \u001b[31m9.4 MB/s\u001b[0m eta \u001b[36m0:00:00\u001b[0m\r\n",
      "\u001b[2K   \u001b[90m━━━━━━━━━━━━━━━━━━━━━━━━━━━━━━━━━━━━━━━━\u001b[0m \u001b[32m193.6/193.6 kB\u001b[0m \u001b[31m16.2 MB/s\u001b[0m eta \u001b[36m0:00:00\u001b[0m\r\n",
      "\u001b[2K   \u001b[90m━━━━━━━━━━━━━━━━━━━━━━━━━━━━━━━━━━━━━━━━\u001b[0m \u001b[32m246.9/246.9 kB\u001b[0m \u001b[31m19.2 MB/s\u001b[0m eta \u001b[36m0:00:00\u001b[0m\r\n",
      "\u001b[2K   \u001b[90m━━━━━━━━━━━━━━━━━━━━━━━━━━━━━━━━━━━━━━━━\u001b[0m \u001b[32m363.4/363.4 MB\u001b[0m \u001b[31m4.7 MB/s\u001b[0m eta \u001b[36m0:00:00\u001b[0m\r\n",
      "\u001b[2K   \u001b[90m━━━━━━━━━━━━━━━━━━━━━━━━━━━━━━━━━━━━━━━━\u001b[0m \u001b[32m664.8/664.8 MB\u001b[0m \u001b[31m2.5 MB/s\u001b[0m eta \u001b[36m0:00:00\u001b[0m\r\n",
      "\u001b[2K   \u001b[90m━━━━━━━━━━━━━━━━━━━━━━━━━━━━━━━━━━━━━━━━\u001b[0m \u001b[32m211.5/211.5 MB\u001b[0m \u001b[31m8.0 MB/s\u001b[0m eta \u001b[36m0:00:00\u001b[0m\r\n",
      "\u001b[2K   \u001b[90m━━━━━━━━━━━━━━━━━━━━━━━━━━━━━━━━━━━━━━━━\u001b[0m \u001b[32m56.3/56.3 MB\u001b[0m \u001b[31m30.3 MB/s\u001b[0m eta \u001b[36m0:00:00\u001b[0m\r\n",
      "\u001b[2K   \u001b[90m━━━━━━━━━━━━━━━━━━━━━━━━━━━━━━━━━━━━━━━━\u001b[0m \u001b[32m127.9/127.9 MB\u001b[0m \u001b[31m13.3 MB/s\u001b[0m eta \u001b[36m0:00:00\u001b[0m\r\n",
      "\u001b[2K   \u001b[90m━━━━━━━━━━━━━━━━━━━━━━━━━━━━━━━━━━━━━━━━\u001b[0m \u001b[32m207.5/207.5 MB\u001b[0m \u001b[31m8.3 MB/s\u001b[0m eta \u001b[36m0:00:00\u001b[0m\r\n",
      "\u001b[2K   \u001b[90m━━━━━━━━━━━━━━━━━━━━━━━━━━━━━━━━━━━━━━━━\u001b[0m \u001b[32m21.1/21.1 MB\u001b[0m \u001b[31m67.3 MB/s\u001b[0m eta \u001b[36m0:00:00\u001b[0m\r\n",
      "\u001b[2K   \u001b[90m━━━━━━━━━━━━━━━━━━━━━━━━━━━━━━━━━━━━━━━━\u001b[0m \u001b[32m1.6/1.6 MB\u001b[0m \u001b[31m60.0 MB/s\u001b[0m eta \u001b[36m0:00:00\u001b[0m\r\n",
      "\u001b[?25h\u001b[31mERROR: pip's dependency resolver does not currently take into account all the packages that are installed. This behaviour is the source of the following dependency conflicts.\r\n",
      "cesium 0.12.4 requires numpy<3.0,>=2.0, but you have numpy 1.26.4 which is incompatible.\r\n",
      "bigframes 1.42.0 requires rich<14,>=12.4.4, but you have rich 14.0.0 which is incompatible.\r\n",
      "gcsfs 2025.3.2 requires fsspec==2025.3.2, but you have fsspec 2025.3.0 which is incompatible.\u001b[0m\u001b[31m\r\n",
      "\u001b[0m"
     ]
    }
   ],
   "source": [
    "!pip install -Uqq fastbook\n",
    "import fastbook\n",
    "fastbook.setup_book()"
   ]
  },
  {
   "cell_type": "code",
   "execution_count": 3,
   "id": "64a29a39",
   "metadata": {
    "execution": {
     "iopub.execute_input": "2025-07-04T22:53:33.172892Z",
     "iopub.status.busy": "2025-07-04T22:53:33.172509Z",
     "iopub.status.idle": "2025-07-04T22:53:33.176924Z",
     "shell.execute_reply": "2025-07-04T22:53:33.176235Z"
    },
    "papermill": {
     "duration": 0.02456,
     "end_time": "2025-07-04T22:53:33.178048",
     "exception": false,
     "start_time": "2025-07-04T22:53:33.153488",
     "status": "completed"
    },
    "tags": []
   },
   "outputs": [],
   "source": [
    "from fastai.vision.all import *\n",
    "from fastbook import *\n",
    "\n",
    "matplotlib.rc('image', cmap='Greys')"
   ]
  },
  {
   "cell_type": "code",
   "execution_count": 4,
   "id": "d01f258a",
   "metadata": {
    "execution": {
     "iopub.execute_input": "2025-07-04T22:53:33.214550Z",
     "iopub.status.busy": "2025-07-04T22:53:33.214364Z",
     "iopub.status.idle": "2025-07-04T22:53:46.926980Z",
     "shell.execute_reply": "2025-07-04T22:53:46.926221Z"
    },
    "papermill": {
     "duration": 13.732312,
     "end_time": "2025-07-04T22:53:46.928213",
     "exception": false,
     "start_time": "2025-07-04T22:53:33.195901",
     "status": "completed"
    },
    "tags": []
   },
   "outputs": [
    {
     "data": {
      "text/html": [
       "\n",
       "<style>\n",
       "    /* Turns off some styling */\n",
       "    progress {\n",
       "        /* gets rid of default border in Firefox and Opera. */\n",
       "        border: none;\n",
       "        /* Needs to be in here for Safari polyfill so background images work as expected. */\n",
       "        background-size: auto;\n",
       "    }\n",
       "    progress:not([value]), progress:not([value])::-webkit-progress-bar {\n",
       "        background: repeating-linear-gradient(45deg, #7e7e7e, #7e7e7e 10px, #5c5c5c 10px, #5c5c5c 20px);\n",
       "    }\n",
       "    .progress-bar-interrupted, .progress-bar-interrupted::-webkit-progress-bar {\n",
       "        background: #F44336;\n",
       "    }\n",
       "</style>\n"
      ],
      "text/plain": [
       "<IPython.core.display.HTML object>"
      ]
     },
     "metadata": {},
     "output_type": "display_data"
    },
    {
     "data": {
      "text/html": [
       "\n",
       "    <div>\n",
       "      <progress value='15687680' class='' max='15683414' style='width:300px; height:20px; vertical-align: middle;'></progress>\n",
       "      100.03% [15687680/15683414 00:00&lt;00:00]\n",
       "    </div>\n",
       "    "
      ],
      "text/plain": [
       "<IPython.core.display.HTML object>"
      ]
     },
     "metadata": {},
     "output_type": "display_data"
    },
    {
     "data": {
      "text/plain": [
       "(#2) [Path('testing'),Path('training')]"
      ]
     },
     "execution_count": 4,
     "metadata": {},
     "output_type": "execute_result"
    }
   ],
   "source": [
    "path = untar_data(URLs.MNIST)\n",
    "Path.BASE_PATH = path\n",
    "path.ls()"
   ]
  },
  {
   "cell_type": "code",
   "execution_count": 5,
   "id": "c2d66ba6",
   "metadata": {
    "execution": {
     "iopub.execute_input": "2025-07-04T22:53:46.966672Z",
     "iopub.status.busy": "2025-07-04T22:53:46.966429Z",
     "iopub.status.idle": "2025-07-04T22:53:46.971329Z",
     "shell.execute_reply": "2025-07-04T22:53:46.970622Z"
    },
    "papermill": {
     "duration": 0.025731,
     "end_time": "2025-07-04T22:53:46.972556",
     "exception": false,
     "start_time": "2025-07-04T22:53:46.946825",
     "status": "completed"
    },
    "tags": []
   },
   "outputs": [
    {
     "data": {
      "text/plain": [
       "(#10) [Path('training/5'),Path('training/6'),Path('training/4'),Path('training/1'),Path('training/9'),Path('training/7'),Path('training/3'),Path('training/2'),Path('training/8'),Path('training/0')]"
      ]
     },
     "execution_count": 5,
     "metadata": {},
     "output_type": "execute_result"
    }
   ],
   "source": [
    "(path/'training').ls()"
   ]
  },
  {
   "cell_type": "markdown",
   "id": "8ae6042f",
   "metadata": {
    "papermill": {
     "duration": 0.017997,
     "end_time": "2025-07-04T22:53:47.009382",
     "exception": false,
     "start_time": "2025-07-04T22:53:46.991385",
     "status": "completed"
    },
    "tags": []
   },
   "source": [
    "# Training Set"
   ]
  },
  {
   "cell_type": "code",
   "execution_count": 6,
   "id": "7b039bcd",
   "metadata": {
    "execution": {
     "iopub.execute_input": "2025-07-04T22:53:47.046738Z",
     "iopub.status.busy": "2025-07-04T22:53:47.046557Z",
     "iopub.status.idle": "2025-07-04T22:53:55.327866Z",
     "shell.execute_reply": "2025-07-04T22:53:55.327229Z"
    },
    "papermill": {
     "duration": 8.301508,
     "end_time": "2025-07-04T22:53:55.329229",
     "exception": false,
     "start_time": "2025-07-04T22:53:47.027721",
     "status": "completed"
    },
    "tags": []
   },
   "outputs": [],
   "source": [
    "train_0  = torch.stack([tensor(Image.open(o)) for o in (path/'training'/'0').ls().sorted()]).float()/255\n",
    "train_1  = torch.stack([tensor(Image.open(o)) for o in (path/'training'/'1').ls().sorted()]).float()/255\n",
    "train_2  = torch.stack([tensor(Image.open(o)) for o in (path/'training'/'2').ls().sorted()]).float()/255\n",
    "train_3  = torch.stack([tensor(Image.open(o)) for o in (path/'training'/'3').ls().sorted()]).float()/255\n",
    "train_4  = torch.stack([tensor(Image.open(o)) for o in (path/'training'/'4').ls().sorted()]).float()/255\n",
    "train_5  = torch.stack([tensor(Image.open(o)) for o in (path/'training'/'5').ls().sorted()]).float()/255\n",
    "train_6  = torch.stack([tensor(Image.open(o)) for o in (path/'training'/'6').ls().sorted()]).float()/255\n",
    "train_7  = torch.stack([tensor(Image.open(o)) for o in (path/'training'/'7').ls().sorted()]).float()/255\n",
    "train_8  = torch.stack([tensor(Image.open(o)) for o in (path/'training'/'8').ls().sorted()]).float()/255\n",
    "train_9  = torch.stack([tensor(Image.open(o)) for o in (path/'training'/'9').ls().sorted()]).float()/255"
   ]
  },
  {
   "cell_type": "markdown",
   "id": "ae1854d4",
   "metadata": {
    "papermill": {
     "duration": 0.017825,
     "end_time": "2025-07-04T22:53:55.365875",
     "exception": false,
     "start_time": "2025-07-04T22:53:55.348050",
     "status": "completed"
    },
    "tags": []
   },
   "source": [
    "# Validation Set"
   ]
  },
  {
   "cell_type": "code",
   "execution_count": 7,
   "id": "db386999",
   "metadata": {
    "execution": {
     "iopub.execute_input": "2025-07-04T22:53:55.447497Z",
     "iopub.status.busy": "2025-07-04T22:53:55.446689Z",
     "iopub.status.idle": "2025-07-04T22:53:56.786545Z",
     "shell.execute_reply": "2025-07-04T22:53:56.785710Z"
    },
    "papermill": {
     "duration": 1.40404,
     "end_time": "2025-07-04T22:53:56.787964",
     "exception": false,
     "start_time": "2025-07-04T22:53:55.383924",
     "status": "completed"
    },
    "tags": []
   },
   "outputs": [],
   "source": [
    "valid_0 = torch.stack([tensor(Image.open(o)) for o in (path/'testing'/'0').ls()]).float()/255\n",
    "valid_1 = torch.stack([tensor(Image.open(o)) for o in (path/'testing'/'1').ls()]).float()/255\n",
    "valid_2 = torch.stack([tensor(Image.open(o)) for o in (path/'testing'/'2').ls()]).float()/255\n",
    "valid_3 = torch.stack([tensor(Image.open(o)) for o in (path/'testing'/'3').ls()]).float()/255\n",
    "valid_4 = torch.stack([tensor(Image.open(o)) for o in (path/'testing'/'4').ls()]).float()/255\n",
    "valid_5 = torch.stack([tensor(Image.open(o)) for o in (path/'testing'/'5').ls()]).float()/255\n",
    "valid_6 = torch.stack([tensor(Image.open(o)) for o in (path/'testing'/'6').ls()]).float()/255\n",
    "valid_7 = torch.stack([tensor(Image.open(o)) for o in (path/'testing'/'7').ls()]).float()/255\n",
    "valid_8 = torch.stack([tensor(Image.open(o)) for o in (path/'testing'/'8').ls()]).float()/255\n",
    "valid_9 = torch.stack([tensor(Image.open(o)) for o in (path/'testing'/'9').ls()]).float()/255"
   ]
  },
  {
   "cell_type": "markdown",
   "id": "03667c1d",
   "metadata": {
    "papermill": {
     "duration": 0.017858,
     "end_time": "2025-07-04T22:53:56.827684",
     "exception": false,
     "start_time": "2025-07-04T22:53:56.809826",
     "status": "completed"
    },
    "tags": []
   },
   "source": [
    "# Concatinating All Digits"
   ]
  },
  {
   "cell_type": "code",
   "execution_count": 8,
   "id": "4b003bdb",
   "metadata": {
    "execution": {
     "iopub.execute_input": "2025-07-04T22:53:56.864958Z",
     "iopub.status.busy": "2025-07-04T22:53:56.864548Z",
     "iopub.status.idle": "2025-07-04T22:53:56.961398Z",
     "shell.execute_reply": "2025-07-04T22:53:56.960547Z"
    },
    "papermill": {
     "duration": 0.117109,
     "end_time": "2025-07-04T22:53:56.962871",
     "exception": false,
     "start_time": "2025-07-04T22:53:56.845762",
     "status": "completed"
    },
    "tags": []
   },
   "outputs": [],
   "source": [
    "train_x = torch.cat([\n",
    "    train_0, train_1, train_2, train_3, train_4,\n",
    "    train_5, train_6, train_7, train_8, train_9\n",
    "]).unsqueeze(1)\n",
    "\n",
    "valid_x = torch.cat([\n",
    "    valid_0, valid_1, valid_2, valid_3, valid_4,\n",
    "    valid_5, valid_6, valid_7, valid_8, valid_9\n",
    "]).unsqueeze(1)"
   ]
  },
  {
   "cell_type": "code",
   "execution_count": 9,
   "id": "036d1009",
   "metadata": {
    "execution": {
     "iopub.execute_input": "2025-07-04T22:53:57.004195Z",
     "iopub.status.busy": "2025-07-04T22:53:57.003731Z",
     "iopub.status.idle": "2025-07-04T22:53:57.011762Z",
     "shell.execute_reply": "2025-07-04T22:53:57.011056Z"
    },
    "papermill": {
     "duration": 0.028501,
     "end_time": "2025-07-04T22:53:57.012956",
     "exception": false,
     "start_time": "2025-07-04T22:53:56.984455",
     "status": "completed"
    },
    "tags": []
   },
   "outputs": [],
   "source": [
    "train_y = torch.cat([\n",
    "    torch.full((train_0.shape[0],), 0),\n",
    "    torch.full((train_1.shape[0],), 1),\n",
    "    torch.full((train_2.shape[0],), 2),\n",
    "    torch.full((train_3.shape[0],), 3),\n",
    "    torch.full((train_4.shape[0],), 4),\n",
    "    torch.full((train_5.shape[0],), 5),\n",
    "    torch.full((train_6.shape[0],), 6),\n",
    "    torch.full((train_7.shape[0],), 7),\n",
    "    torch.full((train_8.shape[0],), 8),\n",
    "    torch.full((train_9.shape[0],), 9)\n",
    "], dim=0).long()\n",
    "\n",
    "valid_y = torch.cat([\n",
    "    torch.full((valid_0.shape[0],), 0),\n",
    "    torch.full((valid_1.shape[0],), 1),\n",
    "    torch.full((valid_2.shape[0],), 2),\n",
    "    torch.full((valid_3.shape[0],), 3),\n",
    "    torch.full((valid_4.shape[0],), 4),\n",
    "    torch.full((valid_5.shape[0],), 5),\n",
    "    torch.full((valid_6.shape[0],), 6),\n",
    "    torch.full((valid_7.shape[0],), 7),\n",
    "    torch.full((valid_8.shape[0],), 8),\n",
    "    torch.full((valid_9.shape[0],), 9)\n",
    "], dim=0).long()"
   ]
  },
  {
   "cell_type": "code",
   "execution_count": 10,
   "id": "ffd49ba9",
   "metadata": {
    "execution": {
     "iopub.execute_input": "2025-07-04T22:53:57.049709Z",
     "iopub.status.busy": "2025-07-04T22:53:57.049528Z",
     "iopub.status.idle": "2025-07-04T22:53:57.512539Z",
     "shell.execute_reply": "2025-07-04T22:53:57.511869Z"
    },
    "papermill": {
     "duration": 0.482713,
     "end_time": "2025-07-04T22:53:57.513926",
     "exception": false,
     "start_time": "2025-07-04T22:53:57.031213",
     "status": "completed"
    },
    "tags": []
   },
   "outputs": [],
   "source": [
    "train_dset = list(zip(train_x, train_y))\n",
    "valid_dset = list(zip(valid_x, valid_y))"
   ]
  },
  {
   "cell_type": "code",
   "execution_count": 11,
   "id": "2cb66ec6",
   "metadata": {
    "execution": {
     "iopub.execute_input": "2025-07-04T22:53:57.551605Z",
     "iopub.status.busy": "2025-07-04T22:53:57.551405Z",
     "iopub.status.idle": "2025-07-04T22:53:57.554988Z",
     "shell.execute_reply": "2025-07-04T22:53:57.554515Z"
    },
    "papermill": {
     "duration": 0.023161,
     "end_time": "2025-07-04T22:53:57.555931",
     "exception": false,
     "start_time": "2025-07-04T22:53:57.532770",
     "status": "completed"
    },
    "tags": []
   },
   "outputs": [],
   "source": [
    "train_dl = DataLoader(train_dset, batch_size=256, shuffle=True)\n",
    "valid_dl = DataLoader(valid_dset, batch_size=256)"
   ]
  },
  {
   "cell_type": "markdown",
   "id": "a3bf6384",
   "metadata": {
    "papermill": {
     "duration": 0.018448,
     "end_time": "2025-07-04T22:53:57.592272",
     "exception": false,
     "start_time": "2025-07-04T22:53:57.573824",
     "status": "completed"
    },
    "tags": []
   },
   "source": [
    "# Custom Classes From Scratch"
   ]
  },
  {
   "cell_type": "code",
   "execution_count": 12,
   "id": "062d403b",
   "metadata": {
    "execution": {
     "iopub.execute_input": "2025-07-04T22:53:57.629108Z",
     "iopub.status.busy": "2025-07-04T22:53:57.628912Z",
     "iopub.status.idle": "2025-07-04T22:53:57.635853Z",
     "shell.execute_reply": "2025-07-04T22:53:57.635166Z"
    },
    "papermill": {
     "duration": 0.026776,
     "end_time": "2025-07-04T22:53:57.637092",
     "exception": false,
     "start_time": "2025-07-04T22:53:57.610316",
     "status": "completed"
    },
    "tags": []
   },
   "outputs": [],
   "source": [
    "class MyConv2D(nn.Module) :\n",
    "    def __init__(self, in_ch, out_ch, ker_size, stride=1, padding=0) :\n",
    "        super().__init__()\n",
    "        self.in_ch = in_ch\n",
    "        self.out_ch = out_ch\n",
    "\n",
    "        if isinstance(ker_size, int) :\n",
    "            ker_size = (ker_size, ker_size)\n",
    "        if isinstance(stride, int) :\n",
    "            stride = (stride, stride)\n",
    "        if isinstance(padding, int) :\n",
    "            padding = (padding, padding)\n",
    "\n",
    "        self.ker_size = ker_size\n",
    "        self.stride = stride\n",
    "        self.padding = padding\n",
    "\n",
    "        # He initialization\n",
    "        self.weight = nn.Parameter(torch.randn(\n",
    "          out_ch, in_ch, *ker_size  \n",
    "        ) * (1.0 / (in_ch * ker_size[0] * ker_size[1])**0.5))\n",
    "\n",
    "        self.bias = nn.Parameter(torch.zeros(out_ch))\n",
    "\n",
    "    def forward(self, x) :\n",
    "        device = x.device\n",
    "        \n",
    "        B, C, H, W = x.shape\n",
    "        kh, kw = self.ker_size\n",
    "\n",
    "        # Shape: (B, in_ch * kh * kw, L), where L = number of patches\n",
    "        x_unf = F.unfold(x, kernel_size=self.ker_size, stride=self.stride, padding=self.padding)\n",
    "\n",
    "        # Reshape weights to (out_ch, in_ch * kh * kw)\n",
    "        weight_flat = self.weight.view(self.out_ch, -1).to(device)\n",
    "\n",
    "        out_unf = weight_flat @ x_unf  # shape: (B, out_ch, L)\n",
    "        out_unf = out_unf + self.bias.view(1, -1, 1).to(device)\n",
    "\n",
    "        out_h = (H + 2*self.padding[0] - kh) // self.stride[0] + 1\n",
    "        out_w = (W + 2*self.padding[1] - kw) // self.stride[1] + 1\n",
    "\n",
    "        out = out_unf.view(B, self.out_ch, out_h, out_w)\n",
    "        return out"
   ]
  },
  {
   "cell_type": "code",
   "execution_count": 13,
   "id": "8ac572ce",
   "metadata": {
    "execution": {
     "iopub.execute_input": "2025-07-04T22:53:57.674336Z",
     "iopub.status.busy": "2025-07-04T22:53:57.674131Z",
     "iopub.status.idle": "2025-07-04T22:53:57.678151Z",
     "shell.execute_reply": "2025-07-04T22:53:57.677492Z"
    },
    "papermill": {
     "duration": 0.024145,
     "end_time": "2025-07-04T22:53:57.679177",
     "exception": false,
     "start_time": "2025-07-04T22:53:57.655032",
     "status": "completed"
    },
    "tags": []
   },
   "outputs": [],
   "source": [
    "class MyCrossEntropyLoss(nn.Module) :\n",
    "    def __init__(self) :\n",
    "        super().__init__()\n",
    "\n",
    "    def forward(self, logits, targets) :\n",
    "        # logits: (N, C)\n",
    "        # targets: (N,)\n",
    "        log_probs = F.log_softmax(logits, dim=1)\n",
    "        loss = -log_probs[torch.arange(logits.size(0)), targets]\n",
    "        return loss.mean()"
   ]
  },
  {
   "cell_type": "code",
   "execution_count": 14,
   "id": "e27ef660",
   "metadata": {
    "execution": {
     "iopub.execute_input": "2025-07-04T22:53:57.716615Z",
     "iopub.status.busy": "2025-07-04T22:53:57.716214Z",
     "iopub.status.idle": "2025-07-04T22:53:57.720292Z",
     "shell.execute_reply": "2025-07-04T22:53:57.719806Z"
    },
    "papermill": {
     "duration": 0.024157,
     "end_time": "2025-07-04T22:53:57.721243",
     "exception": false,
     "start_time": "2025-07-04T22:53:57.697086",
     "status": "completed"
    },
    "tags": []
   },
   "outputs": [],
   "source": [
    "class MySGD(Optimizer) :\n",
    "    def __init__(self, params, lr=0.01) :\n",
    "        self.params = list(params)\n",
    "        self.lr = lr\n",
    "\n",
    "    def step(self, closure=None) :\n",
    "        for p in self.params :\n",
    "            if p.grad is not None :\n",
    "                with torch.no_grad() :\n",
    "                    p -= self.lr * p.grad\n",
    "\n",
    "    def zero_grad(self) :\n",
    "        for p in self.params :\n",
    "            if p.grad is not None :\n",
    "                p.grad.zero_()"
   ]
  },
  {
   "cell_type": "code",
   "execution_count": 15,
   "id": "b73e5590",
   "metadata": {
    "execution": {
     "iopub.execute_input": "2025-07-04T22:53:57.758407Z",
     "iopub.status.busy": "2025-07-04T22:53:57.758180Z",
     "iopub.status.idle": "2025-07-04T22:53:57.763195Z",
     "shell.execute_reply": "2025-07-04T22:53:57.762692Z"
    },
    "papermill": {
     "duration": 0.024652,
     "end_time": "2025-07-04T22:53:57.764141",
     "exception": false,
     "start_time": "2025-07-04T22:53:57.739489",
     "status": "completed"
    },
    "tags": []
   },
   "outputs": [],
   "source": [
    "class MyModel(nn.Module) :\n",
    "    def __init__(self) :\n",
    "        super().__init__()\n",
    "        self.conv1 = MyConv2D(1, 4, ker_size=3, padding=1)\n",
    "        self.bn1   = nn.BatchNorm2d(4)\n",
    "\n",
    "        self.conv2 = MyConv2D(4, 8, ker_size=3, padding=1)\n",
    "        self.bn2   = nn.BatchNorm2d(8)\n",
    "\n",
    "        self.conv3 = MyConv2D(8, 16, ker_size=3, padding=1)\n",
    "        self.bn3   = nn.BatchNorm2d(16)\n",
    "\n",
    "        self.flatten = nn.Flatten()\n",
    "        self.dropout = nn.Dropout(p=0.2)\n",
    "        self.fc = nn.Linear(16*28*28, 10)\n",
    "\n",
    "    def forward(self, x) :\n",
    "        x = F.relu(self.bn1(self.conv1(x)))\n",
    "        x = F.relu(self.bn2(self.conv2(x)))\n",
    "        x = F.relu(self.bn3(self.conv3(x)))\n",
    "        x = self.flatten(x)\n",
    "        x = self.dropout(x)\n",
    "        x = self.fc(x)\n",
    "        return x"
   ]
  },
  {
   "cell_type": "code",
   "execution_count": 16,
   "id": "48a92074",
   "metadata": {
    "execution": {
     "iopub.execute_input": "2025-07-04T22:53:57.800602Z",
     "iopub.status.busy": "2025-07-04T22:53:57.800424Z",
     "iopub.status.idle": "2025-07-04T22:53:58.072899Z",
     "shell.execute_reply": "2025-07-04T22:53:58.072284Z"
    },
    "papermill": {
     "duration": 0.292108,
     "end_time": "2025-07-04T22:53:58.074221",
     "exception": false,
     "start_time": "2025-07-04T22:53:57.782113",
     "status": "completed"
    },
    "tags": []
   },
   "outputs": [],
   "source": [
    "device = torch.device('cuda' if torch.cuda.is_available() else 'cpu')\n",
    "\n",
    "model = MyModel().to(device)\n",
    "loss_fn = MyCrossEntropyLoss()\n",
    "optimizer = MySGD(model.parameters(), lr=0.01)"
   ]
  },
  {
   "cell_type": "code",
   "execution_count": 17,
   "id": "c5611ae7",
   "metadata": {
    "execution": {
     "iopub.execute_input": "2025-07-04T22:53:58.112287Z",
     "iopub.status.busy": "2025-07-04T22:53:58.112043Z",
     "iopub.status.idle": "2025-07-04T22:55:11.377928Z",
     "shell.execute_reply": "2025-07-04T22:55:11.376727Z"
    },
    "papermill": {
     "duration": 73.286183,
     "end_time": "2025-07-04T22:55:11.379280",
     "exception": false,
     "start_time": "2025-07-04T22:53:58.093097",
     "status": "completed"
    },
    "tags": []
   },
   "outputs": [
    {
     "name": "stdout",
     "output_type": "stream",
     "text": [
      "Epoch 1\n",
      "    Train Loss: 0.3573 | Train Acc: 0.9792\n",
      "    Valid Loss: 0.1879 | Valid Acc: 0.9516\n",
      "--------------------------------------------------\n",
      "Epoch 2\n",
      "    Train Loss: 0.1551 | Train Acc: 0.9583\n",
      "    Valid Loss: 0.1306 | Valid Acc: 0.9662\n",
      "--------------------------------------------------\n",
      "Epoch 3\n",
      "    Train Loss: 0.1151 | Train Acc: 0.9688\n",
      "    Valid Loss: 0.1009 | Valid Acc: 0.9733\n",
      "--------------------------------------------------\n",
      "Epoch 4\n",
      "    Train Loss: 0.0936 | Train Acc: 0.9479\n",
      "    Valid Loss: 0.0868 | Valid Acc: 0.9756\n",
      "--------------------------------------------------\n",
      "Epoch 5\n",
      "    Train Loss: 0.0799 | Train Acc: 0.9896\n",
      "    Valid Loss: 0.0767 | Valid Acc: 0.9789\n",
      "--------------------------------------------------\n",
      "Epoch 6\n",
      "    Train Loss: 0.0709 | Train Acc: 0.9792\n",
      "    Valid Loss: 0.0711 | Valid Acc: 0.9794\n",
      "--------------------------------------------------\n",
      "Epoch 7\n",
      "    Train Loss: 0.0637 | Train Acc: 0.9792\n",
      "    Valid Loss: 0.0680 | Valid Acc: 0.9799\n",
      "--------------------------------------------------\n",
      "Epoch 8\n",
      "    Train Loss: 0.0581 | Train Acc: 0.9896\n",
      "    Valid Loss: 0.0620 | Valid Acc: 0.9829\n",
      "--------------------------------------------------\n",
      "Epoch 9\n",
      "    Train Loss: 0.0534 | Train Acc: 1.0000\n",
      "    Valid Loss: 0.0579 | Valid Acc: 0.9821\n",
      "--------------------------------------------------\n",
      "Epoch 10\n",
      "    Train Loss: 0.0507 | Train Acc: 1.0000\n",
      "    Valid Loss: 0.0577 | Valid Acc: 0.9832\n",
      "--------------------------------------------------\n",
      "Epoch 11\n",
      "    Train Loss: 0.0468 | Train Acc: 1.0000\n",
      "    Valid Loss: 0.0528 | Valid Acc: 0.9835\n",
      "--------------------------------------------------\n",
      "Epoch 12\n",
      "    Train Loss: 0.0442 | Train Acc: 0.9792\n",
      "    Valid Loss: 0.0526 | Valid Acc: 0.9845\n",
      "--------------------------------------------------\n",
      "Epoch 13\n",
      "    Train Loss: 0.0421 | Train Acc: 0.9583\n",
      "    Valid Loss: 0.0533 | Valid Acc: 0.9838\n",
      "--------------------------------------------------\n",
      "Epoch 14\n",
      "    Train Loss: 0.0397 | Train Acc: 0.9896\n",
      "    Valid Loss: 0.0495 | Valid Acc: 0.9852\n",
      "--------------------------------------------------\n",
      "Epoch 15\n",
      "    Train Loss: 0.0379 | Train Acc: 0.9792\n",
      "    Valid Loss: 0.0486 | Valid Acc: 0.9851\n",
      "--------------------------------------------------\n",
      "Epoch 16\n",
      "    Train Loss: 0.0358 | Train Acc: 1.0000\n",
      "    Valid Loss: 0.0481 | Valid Acc: 0.9845\n",
      "--------------------------------------------------\n",
      "Epoch 17\n",
      "    Train Loss: 0.0342 | Train Acc: 0.9792\n",
      "    Valid Loss: 0.0474 | Valid Acc: 0.9852\n",
      "--------------------------------------------------\n",
      "Epoch 18\n",
      "    Train Loss: 0.0328 | Train Acc: 0.9792\n",
      "    Valid Loss: 0.0492 | Valid Acc: 0.9835\n",
      "--------------------------------------------------\n",
      "Epoch 19\n",
      "    Train Loss: 0.0320 | Train Acc: 0.9792\n",
      "    Valid Loss: 0.0520 | Valid Acc: 0.9839\n",
      "--------------------------------------------------\n",
      "Epoch 20\n",
      "    Train Loss: 0.0302 | Train Acc: 1.0000\n",
      "    Valid Loss: 0.0469 | Valid Acc: 0.9855\n",
      "--------------------------------------------------\n"
     ]
    }
   ],
   "source": [
    "num_epochs = 20\n",
    "\n",
    "for epoch in range(num_epochs) :\n",
    "    model.train()\n",
    "    total_train_loss = 0.0\n",
    "    total_train_correct = 0\n",
    "    total_train_samples = 0\n",
    "    \n",
    "    for batch_idx, (x_batch, y_batch) in enumerate(train_dl) :\n",
    "        x_batch = x_batch.to(device)\n",
    "        y_batch = y_batch.to(device)\n",
    "        logits = model(x_batch)\n",
    "        loss = loss_fn(logits, y_batch)\n",
    "        loss.backward()\n",
    "        optimizer.step()\n",
    "        optimizer.zero_grad()\n",
    "\n",
    "        total_train_loss += loss.item()\n",
    "\n",
    "        preds = torch.argmax(logits, dim=1)\n",
    "        total_train_correct = (preds==y_batch).sum().item()\n",
    "        total_train_samples = y_batch.size(0)\n",
    "\n",
    "    avg_train_loss = total_train_loss / len(train_dl)\n",
    "    train_acc = total_train_correct / total_train_samples\n",
    "\n",
    "    model.eval()\n",
    "    total_val_loss = 0.0\n",
    "    total_val_correct = 0\n",
    "    total_val_samples = 0\n",
    "\n",
    "    with torch.no_grad() :\n",
    "        for x_val, y_val in valid_dl :\n",
    "            x_val = x_val.to(device)\n",
    "            y_val = y_val.to(device)\n",
    "            val_logits = model(x_val)\n",
    "            val_loss = loss_fn(val_logits, y_val)\n",
    "            total_val_loss += val_loss.item()\n",
    "\n",
    "            val_preds = torch.argmax(val_logits, dim=1)\n",
    "            total_val_correct += (val_preds==y_val).sum().item()\n",
    "            total_val_samples += y_val.size(0)\n",
    "\n",
    "    avg_val_loss = total_val_loss / len(valid_dl)\n",
    "    val_acc = total_val_correct / total_val_samples\n",
    "\n",
    "    print(f\"Epoch {epoch+1}\")\n",
    "    print(f\"    Train Loss: {avg_train_loss:.4f} | Train Acc: {train_acc:.4f}\")\n",
    "    print(f\"    Valid Loss: {avg_val_loss:.4f} | Valid Acc: {val_acc:.4f}\")\n",
    "    print(\"-\" * 50)"
   ]
  },
  {
   "cell_type": "markdown",
   "id": "d658885e",
   "metadata": {
    "papermill": {
     "duration": 0.020481,
     "end_time": "2025-07-04T22:55:11.420658",
     "exception": false,
     "start_time": "2025-07-04T22:55:11.400177",
     "status": "completed"
    },
    "tags": []
   },
   "source": [
    "# Two Layers CNN\n",
    "Train Loss: 0.0635 | Train Acc: 0.9792 | Valid Loss: 0.0576 | Valid Acc: 0.9831\n",
    "\n",
    "# Three Layers CNN\n",
    "Train Loss: 0.0328 | Train Acc: 0.9792 | Valid Loss: 0.0547 | Valid Acc: 0.9836"
   ]
  },
  {
   "cell_type": "code",
   "execution_count": 18,
   "id": "25d99466",
   "metadata": {
    "execution": {
     "iopub.execute_input": "2025-07-04T22:55:11.461107Z",
     "iopub.status.busy": "2025-07-04T22:55:11.460545Z",
     "iopub.status.idle": "2025-07-04T22:55:11.471517Z",
     "shell.execute_reply": "2025-07-04T22:55:11.470868Z"
    },
    "papermill": {
     "duration": 0.032381,
     "end_time": "2025-07-04T22:55:11.472673",
     "exception": false,
     "start_time": "2025-07-04T22:55:11.440292",
     "status": "completed"
    },
    "tags": []
   },
   "outputs": [],
   "source": [
    "torch.save(model, 'mnist_model.pkl')"
   ]
  }
 ],
 "metadata": {
  "kaggle": {
   "accelerator": "nvidiaTeslaT4",
   "dataSources": [],
   "dockerImageVersionId": 31041,
   "isGpuEnabled": true,
   "isInternetEnabled": true,
   "language": "python",
   "sourceType": "notebook"
  },
  "kernelspec": {
   "display_name": "Python 3",
   "language": "python",
   "name": "python3"
  },
  "language_info": {
   "codemirror_mode": {
    "name": "ipython",
    "version": 3
   },
   "file_extension": ".py",
   "mimetype": "text/x-python",
   "name": "python",
   "nbconvert_exporter": "python",
   "pygments_lexer": "ipython3",
   "version": "3.11.11"
  },
  "papermill": {
   "default_parameters": {},
   "duration": 199.123393,
   "end_time": "2025-07-04T22:55:13.514784",
   "environment_variables": {},
   "exception": null,
   "input_path": "__notebook__.ipynb",
   "output_path": "__notebook__.ipynb",
   "parameters": {},
   "start_time": "2025-07-04T22:51:54.391391",
   "version": "2.6.0"
  }
 },
 "nbformat": 4,
 "nbformat_minor": 5
}
